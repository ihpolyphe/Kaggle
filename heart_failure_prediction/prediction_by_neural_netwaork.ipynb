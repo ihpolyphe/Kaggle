{
 "cells": [
  {
   "cell_type": "code",
   "execution_count": 2,
   "id": "9ace79f6-8db1-4364-af9e-83e1805d667e",
   "metadata": {},
   "outputs": [
    {
     "name": "stdout",
     "output_type": "stream",
     "text": [
      "train_data; 1000\n",
      "test_data; 1000\n"
     ]
    }
   ],
   "source": [
    "import pandas as pd\n",
    "import numpy as np\n",
    "# CSVファイルを読み込む\n",
    "train = pd.read_csv('input/train.csv')\n",
    "test = pd.read_csv('input/test.csv')\n",
    "print(\"train_data;\",len(train))\n",
    "print(\"test_data;\",len(test))"
   ]
  },
  {
   "cell_type": "code",
   "execution_count": 3,
   "id": "b0006f78",
   "metadata": {},
   "outputs": [
    {
     "data": {
      "text/html": [
       "<div>\n",
       "<style scoped>\n",
       "    .dataframe tbody tr th:only-of-type {\n",
       "        vertical-align: middle;\n",
       "    }\n",
       "\n",
       "    .dataframe tbody tr th {\n",
       "        vertical-align: top;\n",
       "    }\n",
       "\n",
       "    .dataframe thead th {\n",
       "        text-align: right;\n",
       "    }\n",
       "</style>\n",
       "<table border=\"1\" class=\"dataframe\">\n",
       "  <thead>\n",
       "    <tr style=\"text-align: right;\">\n",
       "      <th></th>\n",
       "      <th>id</th>\n",
       "      <th>age</th>\n",
       "      <th>anaemia</th>\n",
       "      <th>creatinine_phosphokinase</th>\n",
       "      <th>diabetes</th>\n",
       "      <th>ejection_fraction</th>\n",
       "      <th>high_blood_pressure</th>\n",
       "      <th>platelets</th>\n",
       "      <th>serum_creatinine</th>\n",
       "      <th>serum_sodium</th>\n",
       "      <th>sex</th>\n",
       "      <th>smoking</th>\n",
       "      <th>time</th>\n",
       "      <th>target</th>\n",
       "    </tr>\n",
       "  </thead>\n",
       "  <tbody>\n",
       "    <tr>\n",
       "      <th>count</th>\n",
       "      <td>1000.000000</td>\n",
       "      <td>1000.000000</td>\n",
       "      <td>1000.00000</td>\n",
       "      <td>1000.000000</td>\n",
       "      <td>1000.000000</td>\n",
       "      <td>1000.000000</td>\n",
       "      <td>1000.000000</td>\n",
       "      <td>1000.000000</td>\n",
       "      <td>1000.000000</td>\n",
       "      <td>1000.000000</td>\n",
       "      <td>1000.000000</td>\n",
       "      <td>1000.00000</td>\n",
       "      <td>1000.000000</td>\n",
       "      <td>1000.000000</td>\n",
       "    </tr>\n",
       "    <tr>\n",
       "      <th>mean</th>\n",
       "      <td>999.734000</td>\n",
       "      <td>57.632000</td>\n",
       "      <td>0.41600</td>\n",
       "      <td>605.359000</td>\n",
       "      <td>0.270000</td>\n",
       "      <td>36.691000</td>\n",
       "      <td>0.237000</td>\n",
       "      <td>278330.242337</td>\n",
       "      <td>1.030258</td>\n",
       "      <td>136.841000</td>\n",
       "      <td>0.755000</td>\n",
       "      <td>0.25600</td>\n",
       "      <td>149.560000</td>\n",
       "      <td>0.198000</td>\n",
       "    </tr>\n",
       "    <tr>\n",
       "      <th>std</th>\n",
       "      <td>578.002214</td>\n",
       "      <td>9.875328</td>\n",
       "      <td>0.49314</td>\n",
       "      <td>971.937382</td>\n",
       "      <td>0.444182</td>\n",
       "      <td>11.037089</td>\n",
       "      <td>0.425455</td>\n",
       "      <td>79543.675235</td>\n",
       "      <td>0.704616</td>\n",
       "      <td>3.405777</td>\n",
       "      <td>0.430302</td>\n",
       "      <td>0.43664</td>\n",
       "      <td>77.381072</td>\n",
       "      <td>0.398692</td>\n",
       "    </tr>\n",
       "    <tr>\n",
       "      <th>min</th>\n",
       "      <td>0.000000</td>\n",
       "      <td>39.000000</td>\n",
       "      <td>0.00000</td>\n",
       "      <td>23.000000</td>\n",
       "      <td>0.000000</td>\n",
       "      <td>14.000000</td>\n",
       "      <td>0.000000</td>\n",
       "      <td>138173.134500</td>\n",
       "      <td>0.629178</td>\n",
       "      <td>116.000000</td>\n",
       "      <td>0.000000</td>\n",
       "      <td>0.00000</td>\n",
       "      <td>4.000000</td>\n",
       "      <td>0.000000</td>\n",
       "    </tr>\n",
       "    <tr>\n",
       "      <th>25%</th>\n",
       "      <td>496.750000</td>\n",
       "      <td>50.000000</td>\n",
       "      <td>0.00000</td>\n",
       "      <td>93.000000</td>\n",
       "      <td>0.000000</td>\n",
       "      <td>30.000000</td>\n",
       "      <td>0.000000</td>\n",
       "      <td>256629.434900</td>\n",
       "      <td>0.798218</td>\n",
       "      <td>135.000000</td>\n",
       "      <td>1.000000</td>\n",
       "      <td>0.00000</td>\n",
       "      <td>84.500000</td>\n",
       "      <td>0.000000</td>\n",
       "    </tr>\n",
       "    <tr>\n",
       "      <th>50%</th>\n",
       "      <td>1007.500000</td>\n",
       "      <td>58.000000</td>\n",
       "      <td>0.00000</td>\n",
       "      <td>255.000000</td>\n",
       "      <td>0.000000</td>\n",
       "      <td>35.000000</td>\n",
       "      <td>0.000000</td>\n",
       "      <td>267025.054700</td>\n",
       "      <td>0.844389</td>\n",
       "      <td>136.500000</td>\n",
       "      <td>1.000000</td>\n",
       "      <td>0.00000</td>\n",
       "      <td>185.000000</td>\n",
       "      <td>0.000000</td>\n",
       "    </tr>\n",
       "    <tr>\n",
       "      <th>75%</th>\n",
       "      <td>1512.250000</td>\n",
       "      <td>61.000000</td>\n",
       "      <td>1.00000</td>\n",
       "      <td>582.000000</td>\n",
       "      <td>1.000000</td>\n",
       "      <td>40.000000</td>\n",
       "      <td>0.000000</td>\n",
       "      <td>279943.418975</td>\n",
       "      <td>0.956294</td>\n",
       "      <td>139.000000</td>\n",
       "      <td>1.000000</td>\n",
       "      <td>1.00000</td>\n",
       "      <td>213.000000</td>\n",
       "      <td>0.000000</td>\n",
       "    </tr>\n",
       "    <tr>\n",
       "      <th>max</th>\n",
       "      <td>1998.000000</td>\n",
       "      <td>85.000000</td>\n",
       "      <td>1.00000</td>\n",
       "      <td>7861.000000</td>\n",
       "      <td>1.000000</td>\n",
       "      <td>70.000000</td>\n",
       "      <td>1.000000</td>\n",
       "      <td>824131.916700</td>\n",
       "      <td>8.994597</td>\n",
       "      <td>146.000000</td>\n",
       "      <td>1.000000</td>\n",
       "      <td>1.00000</td>\n",
       "      <td>285.000000</td>\n",
       "      <td>1.000000</td>\n",
       "    </tr>\n",
       "  </tbody>\n",
       "</table>\n",
       "</div>"
      ],
      "text/plain": [
       "                id          age     anaemia  creatinine_phosphokinase  \\\n",
       "count  1000.000000  1000.000000  1000.00000               1000.000000   \n",
       "mean    999.734000    57.632000     0.41600                605.359000   \n",
       "std     578.002214     9.875328     0.49314                971.937382   \n",
       "min       0.000000    39.000000     0.00000                 23.000000   \n",
       "25%     496.750000    50.000000     0.00000                 93.000000   \n",
       "50%    1007.500000    58.000000     0.00000                255.000000   \n",
       "75%    1512.250000    61.000000     1.00000                582.000000   \n",
       "max    1998.000000    85.000000     1.00000               7861.000000   \n",
       "\n",
       "          diabetes  ejection_fraction  high_blood_pressure      platelets  \\\n",
       "count  1000.000000        1000.000000          1000.000000    1000.000000   \n",
       "mean      0.270000          36.691000             0.237000  278330.242337   \n",
       "std       0.444182          11.037089             0.425455   79543.675235   \n",
       "min       0.000000          14.000000             0.000000  138173.134500   \n",
       "25%       0.000000          30.000000             0.000000  256629.434900   \n",
       "50%       0.000000          35.000000             0.000000  267025.054700   \n",
       "75%       1.000000          40.000000             0.000000  279943.418975   \n",
       "max       1.000000          70.000000             1.000000  824131.916700   \n",
       "\n",
       "       serum_creatinine  serum_sodium          sex     smoking         time  \\\n",
       "count       1000.000000   1000.000000  1000.000000  1000.00000  1000.000000   \n",
       "mean           1.030258    136.841000     0.755000     0.25600   149.560000   \n",
       "std            0.704616      3.405777     0.430302     0.43664    77.381072   \n",
       "min            0.629178    116.000000     0.000000     0.00000     4.000000   \n",
       "25%            0.798218    135.000000     1.000000     0.00000    84.500000   \n",
       "50%            0.844389    136.500000     1.000000     0.00000   185.000000   \n",
       "75%            0.956294    139.000000     1.000000     1.00000   213.000000   \n",
       "max            8.994597    146.000000     1.000000     1.00000   285.000000   \n",
       "\n",
       "            target  \n",
       "count  1000.000000  \n",
       "mean      0.198000  \n",
       "std       0.398692  \n",
       "min       0.000000  \n",
       "25%       0.000000  \n",
       "50%       0.000000  \n",
       "75%       0.000000  \n",
       "max       1.000000  "
      ]
     },
     "execution_count": 3,
     "metadata": {},
     "output_type": "execute_result"
    }
   ],
   "source": [
    "# データの可視化\n",
    "train.describe()"
   ]
  },
  {
   "cell_type": "code",
   "execution_count": 4,
   "id": "9f352261",
   "metadata": {},
   "outputs": [
    {
     "data": {
      "text/html": [
       "<div>\n",
       "<style scoped>\n",
       "    .dataframe tbody tr th:only-of-type {\n",
       "        vertical-align: middle;\n",
       "    }\n",
       "\n",
       "    .dataframe tbody tr th {\n",
       "        vertical-align: top;\n",
       "    }\n",
       "\n",
       "    .dataframe thead th {\n",
       "        text-align: right;\n",
       "    }\n",
       "</style>\n",
       "<table border=\"1\" class=\"dataframe\">\n",
       "  <thead>\n",
       "    <tr style=\"text-align: right;\">\n",
       "      <th></th>\n",
       "      <th>id</th>\n",
       "      <th>age</th>\n",
       "      <th>anaemia</th>\n",
       "      <th>creatinine_phosphokinase</th>\n",
       "      <th>diabetes</th>\n",
       "      <th>ejection_fraction</th>\n",
       "      <th>high_blood_pressure</th>\n",
       "      <th>platelets</th>\n",
       "      <th>serum_creatinine</th>\n",
       "      <th>serum_sodium</th>\n",
       "      <th>sex</th>\n",
       "      <th>smoking</th>\n",
       "      <th>time</th>\n",
       "    </tr>\n",
       "  </thead>\n",
       "  <tbody>\n",
       "    <tr>\n",
       "      <th>count</th>\n",
       "      <td>1000.00000</td>\n",
       "      <td>1000.000000</td>\n",
       "      <td>1000.00000</td>\n",
       "      <td>1000.000000</td>\n",
       "      <td>1000.000000</td>\n",
       "      <td>1000.000000</td>\n",
       "      <td>1000.000000</td>\n",
       "      <td>1000.000000</td>\n",
       "      <td>1000.000000</td>\n",
       "      <td>1000.000000</td>\n",
       "      <td>1000.000000</td>\n",
       "      <td>1000.000000</td>\n",
       "      <td>1000.000000</td>\n",
       "    </tr>\n",
       "    <tr>\n",
       "      <th>mean</th>\n",
       "      <td>999.26600</td>\n",
       "      <td>58.221000</td>\n",
       "      <td>0.38200</td>\n",
       "      <td>576.722000</td>\n",
       "      <td>0.288000</td>\n",
       "      <td>37.195000</td>\n",
       "      <td>0.245000</td>\n",
       "      <td>277448.502756</td>\n",
       "      <td>1.029092</td>\n",
       "      <td>136.851000</td>\n",
       "      <td>0.756000</td>\n",
       "      <td>0.266000</td>\n",
       "      <td>144.869000</td>\n",
       "    </tr>\n",
       "    <tr>\n",
       "      <th>std</th>\n",
       "      <td>577.27564</td>\n",
       "      <td>10.157132</td>\n",
       "      <td>0.48612</td>\n",
       "      <td>908.726074</td>\n",
       "      <td>0.453058</td>\n",
       "      <td>11.479318</td>\n",
       "      <td>0.430302</td>\n",
       "      <td>85625.028062</td>\n",
       "      <td>0.688246</td>\n",
       "      <td>3.651045</td>\n",
       "      <td>0.429708</td>\n",
       "      <td>0.442085</td>\n",
       "      <td>78.195271</td>\n",
       "    </tr>\n",
       "    <tr>\n",
       "      <th>min</th>\n",
       "      <td>1.00000</td>\n",
       "      <td>40.000000</td>\n",
       "      <td>0.00000</td>\n",
       "      <td>23.000000</td>\n",
       "      <td>0.000000</td>\n",
       "      <td>17.000000</td>\n",
       "      <td>0.000000</td>\n",
       "      <td>117373.947400</td>\n",
       "      <td>0.627076</td>\n",
       "      <td>116.000000</td>\n",
       "      <td>0.000000</td>\n",
       "      <td>0.000000</td>\n",
       "      <td>7.000000</td>\n",
       "    </tr>\n",
       "    <tr>\n",
       "      <th>25%</th>\n",
       "      <td>504.50000</td>\n",
       "      <td>50.000000</td>\n",
       "      <td>0.00000</td>\n",
       "      <td>84.000000</td>\n",
       "      <td>0.000000</td>\n",
       "      <td>25.000000</td>\n",
       "      <td>0.000000</td>\n",
       "      <td>255598.445400</td>\n",
       "      <td>0.793282</td>\n",
       "      <td>136.000000</td>\n",
       "      <td>1.000000</td>\n",
       "      <td>0.000000</td>\n",
       "      <td>79.750000</td>\n",
       "    </tr>\n",
       "    <tr>\n",
       "      <th>50%</th>\n",
       "      <td>995.50000</td>\n",
       "      <td>58.000000</td>\n",
       "      <td>0.00000</td>\n",
       "      <td>231.000000</td>\n",
       "      <td>0.000000</td>\n",
       "      <td>35.000000</td>\n",
       "      <td>0.000000</td>\n",
       "      <td>267212.471150</td>\n",
       "      <td>0.839786</td>\n",
       "      <td>136.000000</td>\n",
       "      <td>1.000000</td>\n",
       "      <td>0.000000</td>\n",
       "      <td>172.000000</td>\n",
       "    </tr>\n",
       "    <tr>\n",
       "      <th>75%</th>\n",
       "      <td>1487.75000</td>\n",
       "      <td>66.000000</td>\n",
       "      <td>1.00000</td>\n",
       "      <td>582.000000</td>\n",
       "      <td>1.000000</td>\n",
       "      <td>45.000000</td>\n",
       "      <td>0.000000</td>\n",
       "      <td>279969.260275</td>\n",
       "      <td>0.948659</td>\n",
       "      <td>140.000000</td>\n",
       "      <td>1.000000</td>\n",
       "      <td>1.000000</td>\n",
       "      <td>213.000000</td>\n",
       "    </tr>\n",
       "    <tr>\n",
       "      <th>max</th>\n",
       "      <td>1999.00000</td>\n",
       "      <td>84.000000</td>\n",
       "      <td>1.00000</td>\n",
       "      <td>7861.000000</td>\n",
       "      <td>1.000000</td>\n",
       "      <td>60.000000</td>\n",
       "      <td>1.000000</td>\n",
       "      <td>859856.405100</td>\n",
       "      <td>9.189842</td>\n",
       "      <td>148.000000</td>\n",
       "      <td>1.000000</td>\n",
       "      <td>1.000000</td>\n",
       "      <td>285.000000</td>\n",
       "    </tr>\n",
       "  </tbody>\n",
       "</table>\n",
       "</div>"
      ],
      "text/plain": [
       "               id          age     anaemia  creatinine_phosphokinase  \\\n",
       "count  1000.00000  1000.000000  1000.00000               1000.000000   \n",
       "mean    999.26600    58.221000     0.38200                576.722000   \n",
       "std     577.27564    10.157132     0.48612                908.726074   \n",
       "min       1.00000    40.000000     0.00000                 23.000000   \n",
       "25%     504.50000    50.000000     0.00000                 84.000000   \n",
       "50%     995.50000    58.000000     0.00000                231.000000   \n",
       "75%    1487.75000    66.000000     1.00000                582.000000   \n",
       "max    1999.00000    84.000000     1.00000               7861.000000   \n",
       "\n",
       "          diabetes  ejection_fraction  high_blood_pressure      platelets  \\\n",
       "count  1000.000000        1000.000000          1000.000000    1000.000000   \n",
       "mean      0.288000          37.195000             0.245000  277448.502756   \n",
       "std       0.453058          11.479318             0.430302   85625.028062   \n",
       "min       0.000000          17.000000             0.000000  117373.947400   \n",
       "25%       0.000000          25.000000             0.000000  255598.445400   \n",
       "50%       0.000000          35.000000             0.000000  267212.471150   \n",
       "75%       1.000000          45.000000             0.000000  279969.260275   \n",
       "max       1.000000          60.000000             1.000000  859856.405100   \n",
       "\n",
       "       serum_creatinine  serum_sodium          sex      smoking         time  \n",
       "count       1000.000000   1000.000000  1000.000000  1000.000000  1000.000000  \n",
       "mean           1.029092    136.851000     0.756000     0.266000   144.869000  \n",
       "std            0.688246      3.651045     0.429708     0.442085    78.195271  \n",
       "min            0.627076    116.000000     0.000000     0.000000     7.000000  \n",
       "25%            0.793282    136.000000     1.000000     0.000000    79.750000  \n",
       "50%            0.839786    136.000000     1.000000     0.000000   172.000000  \n",
       "75%            0.948659    140.000000     1.000000     1.000000   213.000000  \n",
       "max            9.189842    148.000000     1.000000     1.000000   285.000000  "
      ]
     },
     "execution_count": 4,
     "metadata": {},
     "output_type": "execute_result"
    }
   ],
   "source": [
    "test.describe()"
   ]
  },
  {
   "cell_type": "code",
   "execution_count": 5,
   "id": "e835ebf1",
   "metadata": {},
   "outputs": [
    {
     "name": "stdout",
     "output_type": "stream",
     "text": [
      "<class 'pandas.core.frame.DataFrame'>\n",
      "RangeIndex: 1000 entries, 0 to 999\n",
      "Data columns (total 14 columns):\n",
      " #   Column                    Non-Null Count  Dtype  \n",
      "---  ------                    --------------  -----  \n",
      " 0   id                        1000 non-null   int64  \n",
      " 1   age                       1000 non-null   int64  \n",
      " 2   anaemia                   1000 non-null   int64  \n",
      " 3   creatinine_phosphokinase  1000 non-null   int64  \n",
      " 4   diabetes                  1000 non-null   int64  \n",
      " 5   ejection_fraction         1000 non-null   int64  \n",
      " 6   high_blood_pressure       1000 non-null   int64  \n",
      " 7   platelets                 1000 non-null   float64\n",
      " 8   serum_creatinine          1000 non-null   float64\n",
      " 9   serum_sodium              1000 non-null   int64  \n",
      " 10  sex                       1000 non-null   int64  \n",
      " 11  smoking                   1000 non-null   int64  \n",
      " 12  time                      1000 non-null   int64  \n",
      " 13  target                    1000 non-null   int64  \n",
      "dtypes: float64(2), int64(12)\n",
      "memory usage: 109.5 KB\n"
     ]
    }
   ],
   "source": [
    "train.info()"
   ]
  },
  {
   "cell_type": "code",
   "execution_count": 6,
   "id": "06db87a8-e590-48bc-b5a8-a507b858c460",
   "metadata": {},
   "outputs": [],
   "source": [
    "### train dataの前処理を実施"
   ]
  },
  {
   "cell_type": "code",
   "execution_count": 7,
   "id": "0ccdc26d-a5ef-408e-9d42-2212d0aa54d2",
   "metadata": {},
   "outputs": [
    {
     "name": "stdout",
     "output_type": "stream",
     "text": [
      "Abnormal rate is 1    0.198\n",
      "Name: target, dtype: float64\n"
     ]
    },
    {
     "data": {
      "text/plain": [
       "Text(0.05, 0.92, 'fraud rate  = 0.198')"
      ]
     },
     "execution_count": 7,
     "metadata": {},
     "output_type": "execute_result"
    },
    {
     "data": {
      "image/png": "[encoded data removed]",
      "text/plain": [
       "<Figure size 640x480 with 1 Axes>"
      ]
     },
     "metadata": {},
     "output_type": "display_data"
    }
   ],
   "source": [
    "# 正常データと異常データの頻度を確認\n",
    "import matplotlib.pyplot as plt\n",
    "LABELS = [\"Normal\", \"Abnormal\"]\n",
    "\n",
    "frauds = train[train.target == 1]\n",
    "frauds_num = frauds['target'].value_counts()\n",
    "normal = train[train.target == 0]\n",
    "normal_num = normal['target'].value_counts()\n",
    "rate = frauds_num / (frauds_num[1] + normal_num[0])\n",
    "print(\"Abnormal rate is {}\".format(rate))\n",
    "count_classes = pd.value_counts(train['target'], sort = True)\n",
    "count_classes.plot(kind = 'bar', rot=0)\n",
    "plt.title(\"Transaction class distribution\")\n",
    "plt.xticks(range(2), LABELS)\n",
    "plt.xlabel(\"target\")\n",
    "plt.ylabel(\"Frequency\")\n",
    "plt.text(0.05, 0.92, 'fraud rate  = {}'.format(rate[1]), fontsize = 14)"
   ]
  },
  {
   "cell_type": "code",
   "execution_count": 8,
   "id": "c9e058bf-289a-44b7-a173-5b463f818dc6",
   "metadata": {
    "tags": []
   },
   "outputs": [
    {
     "data": {
      "image/png": "[encoded data removed]",
      "text/plain": [
       "<Figure size 960x720 with 14 Axes>"
      ]
     },
     "metadata": {},
     "output_type": "display_data"
    }
   ],
   "source": [
    "fig = plt.figure(dpi=150)\n",
    "for i, col in enumerate(train.columns):\n",
    "    plt.rcParams[\"font.size\"] = 4\n",
    "    plt.subplots_adjust(wspace=2, hspace=2)\n",
    "    # plt.figure(figsize=(4, 4))\n",
    "    plt.subplot2grid((5, 5), (i//5 ,i%5))\n",
    "    plt.hist(train[col])\n",
    "    plt.title(col)\n"
   ]
  },
  {
   "cell_type": "code",
   "execution_count": 9,
   "id": "9c31e4d6-e5c0-4402-8430-9dde0356ee98",
   "metadata": {
    "tags": []
   },
   "outputs": [],
   "source": [
    "# スコア低下したので除外\n",
    "# # 最小値を0ではなく一番小さい値にする\n",
    "# tx_amount_min = train_total[train_total.TX_AMOUNT > 0].TX_AMOUNT.min()\n",
    "# per_terminal_min = train_total[train_total.per_terminal > 0].per_terminal.min()\n",
    "# per_customer_min = train_total[train_total.per_customer > 0].per_customer.min()\n",
    "# print(tx_amount_min)\n",
    "# train_total[\"TX_AMOUNT\"] += tx_amount_min\n",
    "# train_total[\"per_terminal\"] += per_terminal_min\n",
    "# train_total[\"per_customer\"] += per_customer_min\n",
    "# train_total.describe()"
   ]
  },
  {
   "cell_type": "code",
   "execution_count": 10,
   "id": "26230689-6d17-451b-884b-5aeb82ba2ecb",
   "metadata": {},
   "outputs": [],
   "source": [
    "# # 対数変換\n",
    "# log_list = [\"age\",\"creatinine_phosphokinase\",\"ejection_fraction\",\"platelets\",\"serum_creatinine\",\"serum_sodium\"]\n",
    "# fig = plt.figure(dpi=150)\n",
    "# for i,indent in enumerate(log_list):\n",
    "#     plt.rcParams[\"font.size\"] = 4\n",
    "#     plt.subplots_adjust(wspace=2, hspace=2)\n",
    "#     train[indent] = np.log(train[indent])\n",
    "#     test[indent] = np.log(test[indent])\n",
    "#     plt.subplot2grid((5, 5), (i//5 ,i%5))\n",
    "#     plt.hist(train[indent])\n",
    "#     plt.title(indent)\n",
    "# train.describe()"
   ]
  },
  {
   "cell_type": "code",
   "execution_count": 11,
   "id": "f3909633-30be-40e6-b603-11be89b4f4d1",
   "metadata": {},
   "outputs": [],
   "source": [
    "### test dataも同様に前処理を実施"
   ]
  },
  {
   "cell_type": "code",
   "execution_count": 12,
   "id": "3983b112-5de8-40c2-a653-728128d4bf49",
   "metadata": {},
   "outputs": [],
   "source": [
    "# # 最小値を0ではなく一番小さい値にする\n",
    "# tx_amount_min = test_total[test_total.TX_AMOUNT > 0].TX_AMOUNT.min()\n",
    "# per_terminal_min = test_total[test_total.per_terminal > 0].per_terminal.min()\n",
    "# per_customer_min = test_total[test_total.per_customer > 0].per_customer.min()\n",
    "# print(tx_amount_min)\n",
    "# test_total[\"TX_AMOUNT\"] += tx_amount_min\n",
    "# test_total[\"per_terminal\"] += per_terminal_min\n",
    "# test_total[\"per_customer\"] += per_customer_min\n",
    "# test_total.describe()"
   ]
  },
  {
   "cell_type": "code",
   "execution_count": 13,
   "id": "e2cf4aaf-094a-4dcc-bbc9-4f5d2495be90",
   "metadata": {},
   "outputs": [
    {
     "data": {
      "image/png": "[encoded data removed]",
      "text/plain": [
       "<Figure size 1000x800 with 2 Axes>"
      ]
     },
     "metadata": {},
     "output_type": "display_data"
    }
   ],
   "source": [
    "# 情報量が多く処理が完了しないので8月までのデータでヒートマップ算出する\n",
    "import seaborn as sns\n",
    "%matplotlib inline\n",
    "corrs = np.corrcoef(train, rowvar=False)\n",
    "fig,ax = plt.subplots(figsize=(10,8))\n",
    "\n",
    "sns.heatmap(corrs, cmap=sns.color_palette('Reds', 10), annot=True,\n",
    "            fmt='.2f', xticklabels=train.columns.tolist(), yticklabels=train.columns.tolist())\n",
    "# input_features = [\"x_customer_id\",\"y_customer_id\",\"x_terminal_id\",\"y_terminal_id\",\"distance\",'TX_AMOUNT',\"TX_AMOUNT-mean\",\"mean_amount\",\"std_amount\",\"mean_nb_tx_per_day\"]\n",
    "# sns.heatmap(train_total[input_features],vmax=1, vmin=-1, center=0)\n",
    "plt.savefig(\"heatmap.png\")"
   ]
  },
  {
   "cell_type": "code",
   "execution_count": 14,
   "id": "458a9281-12df-4016-98f3-ab01e91c0a27",
   "metadata": {},
   "outputs": [],
   "source": [
    "##特徴選択"
   ]
  },
  {
   "cell_type": "code",
   "execution_count": 15,
   "id": "ef1c9114-9583-4307-bb25-d677bbc0a956",
   "metadata": {},
   "outputs": [
    {
     "name": "stdout",
     "output_type": "stream",
     "text": [
      "Requirement already satisfied: imblearn in /usr/local/lib/python3.9/site-packages (0.0)\n",
      "Requirement already satisfied: imbalanced-learn in /usr/local/lib/python3.9/site-packages (from imblearn) (0.12.2)\n",
      "Requirement already satisfied: numpy>=1.17.3 in /usr/local/lib/python3.9/site-packages (from imbalanced-learn->imblearn) (1.23.5)\n",
      "Requirement already satisfied: scipy>=1.5.0 in /usr/local/lib/python3.9/site-packages (from imbalanced-learn->imblearn) (1.8.0)\n",
      "Requirement already satisfied: joblib>=1.1.1 in /usr/local/lib/python3.9/site-packages (from imbalanced-learn->imblearn) (1.2.0)\n",
      "Requirement already satisfied: scikit-learn>=1.0.2 in /usr/local/lib/python3.9/site-packages (from imbalanced-learn->imblearn) (1.2.0)\n",
      "Requirement already satisfied: threadpoolctl>=2.0.0 in /usr/local/lib/python3.9/site-packages (from imbalanced-learn->imblearn) (3.1.0)\n",
      "\u001b[33mWARNING: Running pip as the 'root' user can result in broken permissions and conflicting behaviour with the system package manager. It is recommended to use a virtual environment instead: https://pip.pypa.io/warnings/venv\u001b[0m\u001b[33m\n",
      "\u001b[0m\n",
      "\u001b[1m[\u001b[0m\u001b[34;49mnotice\u001b[0m\u001b[1;39;49m]\u001b[0m\u001b[39;49m A new release of pip available: \u001b[0m\u001b[31;49m22.3.1\u001b[0m\u001b[39;49m -> \u001b[0m\u001b[32;49m24.0\u001b[0m\n",
      "\u001b[1m[\u001b[0m\u001b[34;49mnotice\u001b[0m\u001b[1;39;49m]\u001b[0m\u001b[39;49m To update, run: \u001b[0m\u001b[32;49mpip install --upgrade pip\u001b[0m\n"
     ]
    }
   ],
   "source": [
    "##特徴選択\n",
    "!pip install imblearn"
   ]
  },
  {
   "cell_type": "code",
   "execution_count": 16,
   "id": "54dc0121-c4db-4f8f-9341-d9046d1efe54",
   "metadata": {},
   "outputs": [],
   "source": [
    "# # ②不均衡データへの処置\n",
    "# # アンダーサンプリング\n",
    "# from imblearn.under_sampling import RandomUnderSampler\n",
    "\n",
    "# target = 'target'\n",
    "# rs = RandomUnderSampler(random_state=42)\n",
    "# under_sampling ,_ = rs.fit_resample(train, train[target])\n",
    "\n",
    "# print('*'*20)\n",
    "# print('＜元のデータ＞')\n",
    "# print('0の件数：%d'%len(train.query(f'{target}==0')))\n",
    "# print('1の件数：%d'%len(train.query(f'{target}==1')))\n",
    "# print('*'*20)\n",
    "# print('＜アンダーサンプリング後のデータ＞')\n",
    "# print('0の件数：%d'%len(under_sampling.query(f'{target}==0')))\n",
    "# print('1の件数：%d'%len(under_sampling.query(f'{target}==1')));\n",
    "\n",
    "# train = under_sampling.copy()\n"
   ]
  },
  {
   "cell_type": "code",
   "execution_count": 17,
   "id": "34ec1ed5-3395-456f-b128-145154dff882",
   "metadata": {
    "tags": []
   },
   "outputs": [],
   "source": [
    "# 学習データと結果に分割\n",
    "# 正常データを異常データと同数にして学習\n",
    "# train_total = under_sampling.copy()\n",
    "y = train['target']\n",
    "train.drop('target', axis=1, inplace=True)\n",
    "# idは削除\n",
    "train.drop('id', axis=1, inplace=True)\n",
    "#多重共線性の観点から位置を省いてみる\n",
    "# train_total = train.drop(['x_customer_id',\"y_customer_id\"], axis=1) #'count' 列を削除\n",
    "\n",
    "test_id = test[\"id\"]\n",
    "test.drop('id', axis=1, inplace=True)\n",
    "test_total = test.copy()\n",
    "# test_total = test.drop(['x_customer_id',\"y_customer_id\"], axis=1) #'count' 列を削除\n"
   ]
  },
  {
   "cell_type": "code",
   "execution_count": 18,
   "id": "40d6d0be-ae39-4456-a927-551311541be5",
   "metadata": {},
   "outputs": [
    {
     "name": "stdout",
     "output_type": "stream",
     "text": [
      "<class 'pandas.core.frame.DataFrame'>\n",
      "RangeIndex: 1000 entries, 0 to 999\n",
      "Data columns (total 12 columns):\n",
      " #   Column                    Non-Null Count  Dtype  \n",
      "---  ------                    --------------  -----  \n",
      " 0   age                       1000 non-null   int64  \n",
      " 1   anaemia                   1000 non-null   int64  \n",
      " 2   creatinine_phosphokinase  1000 non-null   int64  \n",
      " 3   diabetes                  1000 non-null   int64  \n",
      " 4   ejection_fraction         1000 non-null   int64  \n",
      " 5   high_blood_pressure       1000 non-null   int64  \n",
      " 6   platelets                 1000 non-null   float64\n",
      " 7   serum_creatinine          1000 non-null   float64\n",
      " 8   serum_sodium              1000 non-null   int64  \n",
      " 9   sex                       1000 non-null   int64  \n",
      " 10  smoking                   1000 non-null   int64  \n",
      " 11  time                      1000 non-null   int64  \n",
      "dtypes: float64(2), int64(10)\n",
      "memory usage: 93.9 KB\n"
     ]
    }
   ],
   "source": [
    "# 学習データと検証データの分割\n",
    "from sklearn.model_selection import train_test_split\n",
    "# テストデータと学習データ分割\n",
    "X_train, X_val, y_train, y_val = train_test_split(train, y, test_size=0.2, random_state=42)\n",
    "train.info()"
   ]
  },
  {
   "cell_type": "code",
   "execution_count": 19,
   "id": "5c44234a-49ce-4c6e-8a1a-b1e723efede7",
   "metadata": {},
   "outputs": [],
   "source": [
    "#数値型に変換できる列だけをnumeric_colsに入れる\n",
    "numeric_cols=[]\n",
    "for col in X_train.columns:\n",
    "    try:\n",
    "        X_train[col].astype(float)\n",
    "        X_val[col].astype(float)\n",
    "        numeric_cols.append(col)\n",
    "    except:\n",
    "        continue"
   ]
  },
  {
   "cell_type": "code",
   "execution_count": 20,
   "id": "58a8ef1f-f8c1-422b-b889-371d1260d06f",
   "metadata": {
    "tags": []
   },
   "outputs": [
    {
     "name": "stdout",
     "output_type": "stream",
     "text": [
      "Requirement already satisfied: imbalanced-learn in /usr/local/lib/python3.9/site-packages (0.12.2)\n",
      "Requirement already satisfied: scipy>=1.5.0 in /usr/local/lib/python3.9/site-packages (from imbalanced-learn) (1.8.0)\n",
      "Requirement already satisfied: scikit-learn>=1.0.2 in /usr/local/lib/python3.9/site-packages (from imbalanced-learn) (1.2.0)\n",
      "Requirement already satisfied: threadpoolctl>=2.0.0 in /usr/local/lib/python3.9/site-packages (from imbalanced-learn) (3.1.0)\n",
      "Requirement already satisfied: joblib>=1.1.1 in /usr/local/lib/python3.9/site-packages (from imbalanced-learn) (1.2.0)\n",
      "Requirement already satisfied: numpy>=1.17.3 in /usr/local/lib/python3.9/site-packages (from imbalanced-learn) (1.23.5)\n",
      "\u001b[33mWARNING: Running pip as the 'root' user can result in broken permissions and conflicting behaviour with the system package manager. It is recommended to use a virtual environment instead: https://pip.pypa.io/warnings/venv\u001b[0m\u001b[33m\n",
      "\u001b[0m\n",
      "\u001b[1m[\u001b[0m\u001b[34;49mnotice\u001b[0m\u001b[1;39;49m]\u001b[0m\u001b[39;49m A new release of pip available: \u001b[0m\u001b[31;49m22.3.1\u001b[0m\u001b[39;49m -> \u001b[0m\u001b[32;49m24.0\u001b[0m\n",
      "\u001b[1m[\u001b[0m\u001b[34;49mnotice\u001b[0m\u001b[1;39;49m]\u001b[0m\u001b[39;49m To update, run: \u001b[0m\u001b[32;49mpip install --upgrade pip\u001b[0m\n"
     ]
    }
   ],
   "source": [
    "!pip install imbalanced-learn"
   ]
  },
  {
   "cell_type": "code",
   "execution_count": 21,
   "id": "61be4902-3bf2-409a-bcbf-184f2ee60dc7",
   "metadata": {},
   "outputs": [],
   "source": [
    "from imblearn.over_sampling import RandomOverSampler\n",
    "\n",
    "# ros = RandomOverSampler(random_state=42)\n",
    "# X_train_res, y_train_res = ros.fit_resample(X_train, y_train)\n",
    "X_train_res = X_train.copy()\n",
    "y_train_res = y_train.copy()"
   ]
  },
  {
   "cell_type": "code",
   "execution_count": 22,
   "id": "fd04b7ba-83a2-494c-9121-f86a0d38d8c5",
   "metadata": {},
   "outputs": [
    {
     "name": "stderr",
     "output_type": "stream",
     "text": [
      "2024-04-08 04:18:43.585752: I tensorflow/core/platform/cpu_feature_guard.cc:193] This TensorFlow binary is optimized with oneAPI Deep Neural Network Library (oneDNN) to use the following CPU instructions in performance-critical operations:  AVX512F\n",
      "To enable them in other operations, rebuild TensorFlow with the appropriate compiler flags.\n",
      "2024-04-08 04:18:43.733606: W tensorflow/core/profiler/internal/smprofiler_timeline.cc:460] Initializing the SageMaker Profiler.\n",
      "2024-04-08 04:18:43.733710: W tensorflow/core/profiler/internal/smprofiler_timeline.cc:105] SageMaker Profiler is not enabled. The timeline writer thread will not be started, future recorded events will be dropped.\n",
      "2024-04-08 04:18:43.768905: W tensorflow/core/profiler/internal/smprofiler_timeline.cc:460] Initializing the SageMaker Profiler.\n",
      "2024-04-08 04:18:45.833197: I tensorflow/core/platform/cpu_feature_guard.cc:193] This TensorFlow binary is optimized with oneAPI Deep Neural Network Library (oneDNN) to use the following CPU instructions in performance-critical operations:  AVX512F\n",
      "To enable them in other operations, rebuild TensorFlow with the appropriate compiler flags.\n",
      "2024-04-08 04:18:45.835414: I tensorflow/core/common_runtime/process_util.cc:146] Creating new thread pool with default inter op setting: 2. Tune using inter_op_parallelism_threads for best performance.\n"
     ]
    },
    {
     "name": "stdout",
     "output_type": "stream",
     "text": [
      "Shape of X_train: (800, 12)\n",
      "Shape of y_train_res: (800,)\n",
      "Shape of X_val: (200, 12)\n",
      "Shape of y_val: (200,)\n",
      "Epoch 1/50\n",
      "80/80 [==============================] - 1s 6ms/step - loss: 2058.8284 - accuracy: 0.7525 - val_loss: 39.6863 - val_accuracy: 0.4600\n",
      "Epoch 2/50\n",
      "80/80 [==============================] - 0s 4ms/step - loss: 46.2463 - accuracy: 0.6675 - val_loss: 39.5055 - val_accuracy: 0.8100\n",
      "Epoch 3/50\n",
      "80/80 [==============================] - 0s 3ms/step - loss: 56.4886 - accuracy: 0.6837 - val_loss: 109.4217 - val_accuracy: 0.8100\n",
      "Epoch 4/50\n",
      "80/80 [==============================] - 0s 3ms/step - loss: 35.1282 - accuracy: 0.6812 - val_loss: 123.2720 - val_accuracy: 0.8100\n",
      "Epoch 5/50\n",
      "80/80 [==============================] - 0s 4ms/step - loss: 31.3690 - accuracy: 0.6888 - val_loss: 99.8319 - val_accuracy: 0.8100\n",
      "Epoch 6/50\n",
      "80/80 [==============================] - 0s 4ms/step - loss: 34.7215 - accuracy: 0.6938 - val_loss: 106.5726 - val_accuracy: 0.8100\n",
      "Epoch 7/50\n",
      "80/80 [==============================] - 0s 3ms/step - loss: 70.5958 - accuracy: 0.6875 - val_loss: 35.4957 - val_accuracy: 0.8150\n",
      "Epoch 8/50\n",
      "80/80 [==============================] - 0s 4ms/step - loss: 48.6868 - accuracy: 0.6913 - val_loss: 9.7807 - val_accuracy: 0.7050\n",
      "Epoch 9/50\n",
      "80/80 [==============================] - 0s 3ms/step - loss: 75.0234 - accuracy: 0.6725 - val_loss: 126.3104 - val_accuracy: 0.8100\n",
      "Epoch 10/50\n",
      "80/80 [==============================] - 0s 3ms/step - loss: 63.8304 - accuracy: 0.6975 - val_loss: 82.5004 - val_accuracy: 0.8050\n",
      "Epoch 11/50\n",
      "80/80 [==============================] - 0s 4ms/step - loss: 37.3360 - accuracy: 0.6938 - val_loss: 159.6838 - val_accuracy: 0.1900\n",
      "Epoch 12/50\n",
      "80/80 [==============================] - 1s 7ms/step - loss: 24.8484 - accuracy: 0.7000 - val_loss: 53.9842 - val_accuracy: 0.8100\n",
      "Epoch 13/50\n",
      "80/80 [==============================] - 0s 4ms/step - loss: 34.3363 - accuracy: 0.6950 - val_loss: 37.4604 - val_accuracy: 0.8100\n",
      "Epoch 14/50\n",
      "80/80 [==============================] - 0s 4ms/step - loss: 52.6375 - accuracy: 0.7113 - val_loss: 42.1847 - val_accuracy: 0.8050\n",
      "Epoch 15/50\n",
      "80/80 [==============================] - 0s 5ms/step - loss: 40.3452 - accuracy: 0.6837 - val_loss: 23.6993 - val_accuracy: 0.8050\n",
      "Epoch 16/50\n",
      "80/80 [==============================] - 1s 8ms/step - loss: 34.3339 - accuracy: 0.6875 - val_loss: 67.5598 - val_accuracy: 0.8100\n",
      "Epoch 17/50\n",
      "80/80 [==============================] - 0s 4ms/step - loss: 37.7894 - accuracy: 0.7000 - val_loss: 48.3088 - val_accuracy: 0.8050\n",
      "Epoch 18/50\n",
      "80/80 [==============================] - 0s 3ms/step - loss: 44.2210 - accuracy: 0.6837 - val_loss: 77.1466 - val_accuracy: 0.8100\n",
      "Epoch 19/50\n",
      "80/80 [==============================] - 0s 4ms/step - loss: 63.3427 - accuracy: 0.7050 - val_loss: 176.8314 - val_accuracy: 0.1900\n",
      "Epoch 20/50\n",
      "80/80 [==============================] - 0s 4ms/step - loss: 66.8738 - accuracy: 0.6850 - val_loss: 237.1134 - val_accuracy: 0.1900\n",
      "Epoch 21/50\n",
      "80/80 [==============================] - 0s 3ms/step - loss: 51.8022 - accuracy: 0.6913 - val_loss: 256.3236 - val_accuracy: 0.1900\n",
      "Epoch 22/50\n",
      "80/80 [==============================] - 0s 3ms/step - loss: 56.9774 - accuracy: 0.7100 - val_loss: 25.7903 - val_accuracy: 0.2200\n",
      "Epoch 23/50\n",
      "80/80 [==============================] - 0s 3ms/step - loss: 20.4122 - accuracy: 0.7050 - val_loss: 23.5755 - val_accuracy: 0.2150\n",
      "Epoch 24/50\n",
      "80/80 [==============================] - 0s 3ms/step - loss: 22.1906 - accuracy: 0.6963 - val_loss: 45.7127 - val_accuracy: 0.1900\n",
      "Epoch 25/50\n",
      "80/80 [==============================] - 0s 3ms/step - loss: 34.3796 - accuracy: 0.6875 - val_loss: 142.7405 - val_accuracy: 0.8100\n",
      "Epoch 26/50\n",
      "80/80 [==============================] - 0s 3ms/step - loss: 56.8652 - accuracy: 0.6750 - val_loss: 37.6165 - val_accuracy: 0.8050\n",
      "Epoch 27/50\n",
      "80/80 [==============================] - 0s 4ms/step - loss: 23.5891 - accuracy: 0.6913 - val_loss: 88.1244 - val_accuracy: 0.8100\n",
      "Epoch 28/50\n",
      "80/80 [==============================] - 0s 4ms/step - loss: 32.5309 - accuracy: 0.6888 - val_loss: 44.4694 - val_accuracy: 0.8100\n",
      "Epoch 29/50\n",
      "80/80 [==============================] - 0s 4ms/step - loss: 31.4806 - accuracy: 0.6900 - val_loss: 135.4145 - val_accuracy: 0.8100\n",
      "Epoch 30/50\n",
      "80/80 [==============================] - 0s 3ms/step - loss: 25.9513 - accuracy: 0.6712 - val_loss: 7.0606 - val_accuracy: 0.6450\n",
      "Epoch 31/50\n",
      "80/80 [==============================] - 0s 3ms/step - loss: 35.4728 - accuracy: 0.6938 - val_loss: 11.8365 - val_accuracy: 0.8050\n",
      "Epoch 32/50\n",
      "80/80 [==============================] - 0s 3ms/step - loss: 35.2081 - accuracy: 0.7038 - val_loss: 18.4895 - val_accuracy: 0.8150\n",
      "Epoch 33/50\n",
      "80/80 [==============================] - 0s 3ms/step - loss: 17.5377 - accuracy: 0.7050 - val_loss: 17.6483 - val_accuracy: 0.2450\n",
      "Epoch 34/50\n",
      "80/80 [==============================] - 0s 3ms/step - loss: 26.9176 - accuracy: 0.6700 - val_loss: 18.3272 - val_accuracy: 0.8000\n",
      "Epoch 35/50\n",
      "80/80 [==============================] - 0s 3ms/step - loss: 45.6987 - accuracy: 0.6888 - val_loss: 13.7720 - val_accuracy: 0.5850\n",
      "Epoch 36/50\n",
      "80/80 [==============================] - 0s 3ms/step - loss: 39.1124 - accuracy: 0.6800 - val_loss: 20.0152 - val_accuracy: 0.8150\n",
      "Epoch 37/50\n",
      "80/80 [==============================] - 0s 3ms/step - loss: 23.1959 - accuracy: 0.6913 - val_loss: 103.4597 - val_accuracy: 0.8100\n",
      "Epoch 38/50\n",
      "80/80 [==============================] - 0s 3ms/step - loss: 23.6383 - accuracy: 0.7075 - val_loss: 49.0493 - val_accuracy: 0.1900\n",
      "Epoch 39/50\n",
      "80/80 [==============================] - 0s 3ms/step - loss: 38.4655 - accuracy: 0.7050 - val_loss: 33.1526 - val_accuracy: 0.8100\n",
      "Epoch 40/50\n",
      "80/80 [==============================] - 0s 4ms/step - loss: 41.2572 - accuracy: 0.7200 - val_loss: 58.9563 - val_accuracy: 0.8100\n",
      "Epoch 41/50\n",
      "80/80 [==============================] - 0s 4ms/step - loss: 24.3093 - accuracy: 0.6900 - val_loss: 15.6921 - val_accuracy: 0.8150\n",
      "Epoch 42/50\n",
      "80/80 [==============================] - 0s 3ms/step - loss: 83.6729 - accuracy: 0.6500 - val_loss: 72.4613 - val_accuracy: 0.8100\n",
      "Epoch 43/50\n",
      "80/80 [==============================] - 0s 4ms/step - loss: 62.3781 - accuracy: 0.7138 - val_loss: 68.0675 - val_accuracy: 0.8100\n",
      "Epoch 44/50\n",
      "80/80 [==============================] - 0s 4ms/step - loss: 33.9688 - accuracy: 0.6812 - val_loss: 55.9211 - val_accuracy: 0.8100\n",
      "Epoch 45/50\n",
      "80/80 [==============================] - 0s 4ms/step - loss: 24.3393 - accuracy: 0.7025 - val_loss: 58.0480 - val_accuracy: 0.8100\n",
      "Epoch 46/50\n",
      "80/80 [==============================] - 0s 4ms/step - loss: 20.1941 - accuracy: 0.7150 - val_loss: 98.2345 - val_accuracy: 0.1900\n",
      "Epoch 47/50\n",
      "80/80 [==============================] - 1s 8ms/step - loss: 37.4980 - accuracy: 0.6625 - val_loss: 45.1639 - val_accuracy: 0.8100\n",
      "Epoch 48/50\n",
      "80/80 [==============================] - 1s 8ms/step - loss: 24.6236 - accuracy: 0.7013 - val_loss: 8.6265 - val_accuracy: 0.8100\n",
      "Epoch 49/50\n",
      "80/80 [==============================] - 1s 7ms/step - loss: 39.7051 - accuracy: 0.6850 - val_loss: 102.8467 - val_accuracy: 0.8100\n",
      "Epoch 50/50\n",
      "80/80 [==============================] - 0s 6ms/step - loss: 33.6994 - accuracy: 0.7038 - val_loss: 32.0594 - val_accuracy: 0.8150\n"
     ]
    }
   ],
   "source": [
    "from sklearn.model_selection import train_test_split\n",
    "from sklearn.utils import class_weight\n",
    "from keras.models import Sequential\n",
    "from keras.layers import Dense\n",
    "from keras.utils import np_utils\n",
    "from keras.callbacks import ModelCheckpoint, TensorBoard\n",
    "\n",
    "#\n",
    "\n",
    "# ラベルをone-hotエンコーディング\n",
    "# y_train_res = np_utils.to_categorical(y_train_res)\n",
    "# y_val = np_utils.to_categorical(y_val)\n",
    "\n",
    "# クラスの重みを計算\n",
    "weights = class_weight.compute_sample_weight('balanced', y_train_res)\n",
    "\n",
    "# クラスラベルと重みの辞書を作成\n",
    "class_weights = dict(enumerate(weights))\n",
    "\n",
    "# モデルの作成\n",
    "model = Sequential()\n",
    "# model.add(Dense(16, input_dim=len(numeric_cols), activation='relu')) \n",
    "# model.add(Dense(2, activation='sigmoid'))  # 出力層\n",
    "model.add(Dense(16, activation='relu', input_dim=len(numeric_cols)))  \n",
    "# model.add(Dense(8, activation='sigmoid'))\n",
    "# model.add(Dense(6, activation='sigmoid'))\n",
    "\n",
    "model.add(Dense(1, activation='sigmoid'))\n",
    "# モデルのコンパイル\n",
    "model.compile(loss='binary_crossentropy', optimizer='adam', metrics=['accuracy'])\n",
    "\n",
    "checkpointer = ModelCheckpoint(filepath=\"model.h5\",\n",
    "   verbose=0,\n",
    "   save_best_only=True)\n",
    "tensorboard = TensorBoard(log_dir='./logs',\n",
    "   histogram_freq=0,\n",
    "   write_graph=True,\n",
    "   write_images=True)\n",
    "# 入力データの形状を確認\n",
    "print('Shape of X_train:', X_train_res[numeric_cols].shape)\n",
    "print('Shape of y_train_res:', y_train_res.shape)\n",
    "print('Shape of X_val:', X_val[numeric_cols].shape)\n",
    "print('Shape of y_val:', y_val.shape)\n",
    "\n",
    "# モデルの訓練\n",
    "# history = model.fit(X_train_res[numeric_cols], y_train_res, epochs=20, batch_size=10, class_weight=class_weights)\n",
    "# history = model.fit(X_train_res[numeric_cols], y_train_res,\n",
    "history = model.fit(X_train_res, y_train_res,\n",
    "    batch_size=10,\n",
    "    epochs=50,\n",
    "    shuffle=True,\n",
    "    class_weight=class_weights,\n",
    "    validation_data=(X_val, y_val)).history\n",
    "    # validation_data=(X_val[numeric_cols], y_val)).history"
   ]
  },
  {
   "cell_type": "code",
   "execution_count": 23,
   "id": "2607fe7a-8415-4d3c-a9ba-f10e80c4f57a",
   "metadata": {},
   "outputs": [
    {
     "data": {
      "image/png": "[encoded data removed]",
      "text/plain": [
       "<Figure size 640x480 with 1 Axes>"
      ]
     },
     "metadata": {},
     "output_type": "display_data"
    }
   ],
   "source": [
    "# モデル評価\n",
    "plt.plot(history['loss'])\n",
    "plt.plot(history['val_loss'])\n",
    "plt.title('model loss')\n",
    "plt.yscale('log')\n",
    "plt.ylabel('loss')\n",
    "plt.xlabel('epoch')\n",
    "plt.legend(['train', 'valid'], loc='upper right');"
   ]
  },
  {
   "cell_type": "code",
   "execution_count": 24,
   "id": "15d22207-d740-4584-93f3-33123ef1646b",
   "metadata": {},
   "outputs": [
    {
     "name": "stdout",
     "output_type": "stream",
     "text": [
      "7/7 [==============================] - 0s 4ms/step\n"
     ]
    },
    {
     "data": {
      "text/html": [
       "<div>\n",
       "<style scoped>\n",
       "    .dataframe tbody tr th:only-of-type {\n",
       "        vertical-align: middle;\n",
       "    }\n",
       "\n",
       "    .dataframe tbody tr th {\n",
       "        vertical-align: top;\n",
       "    }\n",
       "\n",
       "    .dataframe thead th {\n",
       "        text-align: right;\n",
       "    }\n",
       "</style>\n",
       "<table border=\"1\" class=\"dataframe\">\n",
       "  <thead>\n",
       "    <tr style=\"text-align: right;\">\n",
       "      <th></th>\n",
       "      <th>0</th>\n",
       "    </tr>\n",
       "  </thead>\n",
       "  <tbody>\n",
       "    <tr>\n",
       "      <th>0</th>\n",
       "      <td>0.000000e+00</td>\n",
       "    </tr>\n",
       "    <tr>\n",
       "      <th>1</th>\n",
       "      <td>0.000000e+00</td>\n",
       "    </tr>\n",
       "    <tr>\n",
       "      <th>2</th>\n",
       "      <td>0.000000e+00</td>\n",
       "    </tr>\n",
       "    <tr>\n",
       "      <th>3</th>\n",
       "      <td>1.107002e-20</td>\n",
       "    </tr>\n",
       "    <tr>\n",
       "      <th>4</th>\n",
       "      <td>0.000000e+00</td>\n",
       "    </tr>\n",
       "  </tbody>\n",
       "</table>\n",
       "</div>"
      ],
      "text/plain": [
       "              0\n",
       "0  0.000000e+00\n",
       "1  0.000000e+00\n",
       "2  0.000000e+00\n",
       "3  1.107002e-20\n",
       "4  0.000000e+00"
      ]
     },
     "execution_count": 24,
     "metadata": {},
     "output_type": "execute_result"
    }
   ],
   "source": [
    "# 予測確率を取得（positive class）\n",
    "# probabilities = model.predict(X_val[numeric_cols])\n",
    "probabilities = model.predict(X_val)\n",
    "pd.DataFrame(probabilities).head()"
   ]
  },
  {
   "cell_type": "code",
   "execution_count": 25,
   "id": "8c26b0e0-6a54-460e-bd5f-027700b4d6c5",
   "metadata": {},
   "outputs": [
    {
     "data": {
      "image/png": "[encoded data removed]",
      "text/plain": [
       "<Figure size 640x480 with 1 Axes>"
      ]
     },
     "metadata": {},
     "output_type": "display_data"
    }
   ],
   "source": [
    "from sklearn.metrics import precision_score\n",
    "from sklearn.metrics import precision_recall_curve\n",
    "from sklearn.metrics import roc_curve, auc\n",
    "import matplotlib.pyplot as plt\n",
    "# ROCカーブを計算\n",
    "fpr, tpr, thresholds = roc_curve(y_val, probabilities)\n",
    "\n",
    "# AUCを計算\n",
    "roc_auc = auc(fpr, tpr)\n",
    "\n",
    "# ROCカーブをプロット\n",
    "plt.figure()\n",
    "plt.plot(fpr, tpr, color='darkorange', lw=2, label='ROC curve (area = %0.2f)' % roc_auc)\n",
    "plt.plot([0, 1], [0, 1], color='navy', lw=2, linestyle='--')\n",
    "plt.xlim([0.0, 1.0])\n",
    "plt.ylim([0.0, 1.05])\n",
    "plt.xlabel('False Positive Rate')\n",
    "plt.ylabel('True Positive Rate')\n",
    "plt.title('Receiver Operating Characteristic')\n",
    "plt.legend(loc=\"lower right\")\n",
    "plt.show()"
   ]
  },
  {
   "cell_type": "code",
   "execution_count": 26,
   "id": "ccbd2921-bb70-4e52-8210-76e3e4c52c88",
   "metadata": {},
   "outputs": [
    {
     "data": {
      "image/png": "[encoded data removed]",
      "text/plain": [
       "<Figure size 640x480 with 1 Axes>"
      ]
     },
     "metadata": {},
     "output_type": "display_data"
    }
   ],
   "source": [
    "from sklearn.metrics import precision_recall_curve\n",
    "import matplotlib.pyplot as plt\n",
    "\n",
    "# Precision-Recallカーブを計算\n",
    "precision, recall, thresholds = precision_recall_curve(y_val, probabilities)\n",
    "\n",
    "# Precision-Recallカーブをプロット\n",
    "plt.plot(recall, precision, marker='.')\n",
    "plt.xlabel('Recall')\n",
    "plt.ylabel('Precision')\n",
    "plt.title('Precision-Recall Curve')\n",
    "plt.show()"
   ]
  },
  {
   "cell_type": "code",
   "execution_count": 27,
   "id": "c406cdc7-0df5-4c14-a6a9-b89551cb9600",
   "metadata": {},
   "outputs": [
    {
     "name": "stdout",
     "output_type": "stream",
     "text": [
      "Threshold Optimal: 0.0\n"
     ]
    }
   ],
   "source": [
    "# F1スコアを計算\n",
    "f1_scores = 2*(precision*recall)/(precision+recall)\n",
    "\n",
    "# F1スコアが最大となる閾値を探す\n",
    "threshold_optimal = thresholds[np.argmax(f1_scores)]\n",
    "\n",
    "print(f'Threshold Optimal: {threshold_optimal}')"
   ]
  },
  {
   "cell_type": "code",
   "execution_count": 28,
   "id": "103db743-94c2-48ce-b1cd-cc0dd7757eca",
   "metadata": {},
   "outputs": [
    {
     "name": "stdout",
     "output_type": "stream",
     "text": [
      "Optimal Threshold: 1.9113170152183275e-38\n"
     ]
    }
   ],
   "source": [
    "# ROC曲線の各点に対応する閾値を取得\n",
    "fpr, tpr, thresholds = roc_curve(y_val, probabilities)\n",
    "\n",
    "# 最適な閾値を見つける（TPR - FPRが最大となる閾値）\n",
    "optimal_idx = np.argmax(tpr - fpr)\n",
    "optimal_threshold = thresholds[optimal_idx]\n",
    "\n",
    "print(f'Optimal Threshold: {optimal_threshold}')"
   ]
  },
  {
   "cell_type": "code",
   "execution_count": 29,
   "id": "32f9e5de-f704-4c52-92a4-532866f49b75",
   "metadata": {},
   "outputs": [],
   "source": [
    "threshold_optimal = 0.65\n",
    "# 確率を二値に変換\n",
    "#predictions = [1 if prob > optimal_threshold else 0 for prob in probabilities]\n",
    "predictions = [1 if prob > threshold_optimal else 0 for prob in probabilities]"
   ]
  },
  {
   "cell_type": "code",
   "execution_count": 30,
   "id": "9b4b60dd-9b23-4794-b685-2e55a6af9c4f",
   "metadata": {},
   "outputs": [
    {
     "data": {
      "text/plain": [
       "0.05263157894736842"
      ]
     },
     "execution_count": 30,
     "metadata": {},
     "output_type": "execute_result"
    }
   ],
   "source": [
    "from sklearn.metrics import precision_score, recall_score\n",
    "\n",
    "# 真の答えを第一引数、予測を第二引数に入れ、平均方法としてmacroを指定\n",
    "recall_score(y_val, predictions)"
   ]
  },
  {
   "cell_type": "code",
   "execution_count": 31,
   "id": "537444bf-0211-43ca-b536-9855048eb736",
   "metadata": {},
   "outputs": [
    {
     "data": {
      "text/plain": [
       "0.6666666666666666"
      ]
     },
     "execution_count": 31,
     "metadata": {},
     "output_type": "execute_result"
    }
   ],
   "source": [
    "#真の答えを第一引数、予測を第二引数に入れ、平均方法としてmacroを指定\n",
    "precision_score(y_val, predictions)"
   ]
  },
  {
   "cell_type": "code",
   "execution_count": 32,
   "id": "b791b2d2-8e3d-4d0f-8410-fa0104590fd6",
   "metadata": {},
   "outputs": [
    {
     "data": {
      "text/plain": [
       "0.815"
      ]
     },
     "execution_count": 32,
     "metadata": {},
     "output_type": "execute_result"
    }
   ],
   "source": [
    "from sklearn.metrics import accuracy_score\n",
    "accuracy_score(y_val, predictions)"
   ]
  },
  {
   "cell_type": "code",
   "execution_count": 33,
   "id": "bbf0bab6-0c22-41b1-af6f-c039808ac7ba",
   "metadata": {},
   "outputs": [
    {
     "name": "stdout",
     "output_type": "stream",
     "text": [
      "True Positives(不正利用→不正利用): 2\n",
      "False Positives(正常利用→不正利用): 1\n",
      "True Negatives(正常利用→正常利用): 161\n",
      "False Negatives(不正利用→正常利用): 36\n"
     ]
    },
    {
     "data": {
      "image/png": "[encoded data removed]",
      "text/plain": [
       "<Figure size 500x500 with 2 Axes>"
      ]
     },
     "metadata": {},
     "output_type": "display_data"
    }
   ],
   "source": [
    "from sklearn.metrics import confusion_matrix\n",
    "\n",
    "# 混同行列を作成\n",
    "cm = confusion_matrix(y_val, predictions)\n",
    "\n",
    "# 混同行列からTP, FP, TN, FNを取得\n",
    "tn, fp, fn, tp = cm.ravel()\n",
    "plt.rcParams[\"font.size\"] = 12\n",
    "\n",
    "print(f\"True Positives(不正利用→不正利用): {tp}\")\n",
    "print(f\"False Positives(正常利用→不正利用): {fp}\")\n",
    "print(f\"True Negatives(正常利用→正常利用): {tn}\")\n",
    "print(f\"False Negatives(不正利用→正常利用): {fn}\")\n",
    "plt.figure(figsize=(5, 5))\n",
    "sns.heatmap(cm, xticklabels=[\"Normal\",\"Abnormal\"], yticklabels=[\"Normal\",\"Abnormal\"], annot=True, fmt=\"d\");\n",
    "plt.title(\"Confusion matrix\")\n",
    "plt.ylabel('True class')\n",
    "plt.xlabel('Predicted class')\n",
    "plt.show()"
   ]
  },
  {
   "cell_type": "code",
   "execution_count": 34,
   "id": "e2f3d466-08a1-4692-804c-e845df94bdb3",
   "metadata": {},
   "outputs": [
    {
     "data": {
      "text/html": [
       "<div>\n",
       "<style scoped>\n",
       "    .dataframe tbody tr th:only-of-type {\n",
       "        vertical-align: middle;\n",
       "    }\n",
       "\n",
       "    .dataframe tbody tr th {\n",
       "        vertical-align: top;\n",
       "    }\n",
       "\n",
       "    .dataframe thead th {\n",
       "        text-align: right;\n",
       "    }\n",
       "</style>\n",
       "<table border=\"1\" class=\"dataframe\">\n",
       "  <thead>\n",
       "    <tr style=\"text-align: right;\">\n",
       "      <th></th>\n",
       "      <th>target</th>\n",
       "    </tr>\n",
       "  </thead>\n",
       "  <tbody>\n",
       "    <tr>\n",
       "      <th>count</th>\n",
       "      <td>200.000000</td>\n",
       "    </tr>\n",
       "    <tr>\n",
       "      <th>mean</th>\n",
       "      <td>0.190000</td>\n",
       "    </tr>\n",
       "    <tr>\n",
       "      <th>std</th>\n",
       "      <td>0.393285</td>\n",
       "    </tr>\n",
       "    <tr>\n",
       "      <th>min</th>\n",
       "      <td>0.000000</td>\n",
       "    </tr>\n",
       "    <tr>\n",
       "      <th>25%</th>\n",
       "      <td>0.000000</td>\n",
       "    </tr>\n",
       "    <tr>\n",
       "      <th>50%</th>\n",
       "      <td>0.000000</td>\n",
       "    </tr>\n",
       "    <tr>\n",
       "      <th>75%</th>\n",
       "      <td>0.000000</td>\n",
       "    </tr>\n",
       "    <tr>\n",
       "      <th>max</th>\n",
       "      <td>1.000000</td>\n",
       "    </tr>\n",
       "  </tbody>\n",
       "</table>\n",
       "</div>"
      ],
      "text/plain": [
       "           target\n",
       "count  200.000000\n",
       "mean     0.190000\n",
       "std      0.393285\n",
       "min      0.000000\n",
       "25%      0.000000\n",
       "50%      0.000000\n",
       "75%      0.000000\n",
       "max      1.000000"
      ]
     },
     "execution_count": 34,
     "metadata": {},
     "output_type": "execute_result"
    }
   ],
   "source": [
    "y_val_frame = y_val.to_frame()\n",
    "y_val_frame.describe()"
   ]
  },
  {
   "cell_type": "code",
   "execution_count": 35,
   "id": "b7f002b5-5f0c-49ca-947a-b669713b324f",
   "metadata": {},
   "outputs": [
    {
     "data": {
      "image/png": "[encoded data removed]",
      "text/plain": [
       "<Figure size 640x480 with 1 Axes>"
      ]
     },
     "metadata": {},
     "output_type": "display_data"
    }
   ],
   "source": [
    "y_pred_train = probabilities\n",
    "\n",
    "y_pred_label_normal = y_pred_train[y_val==0]\n",
    "y_pred_label_fraud = y_pred_train[y_val==1]\n",
    "\n",
    "f, (ax) = plt.subplots()\n",
    "f.suptitle('Prediction hist Test')\n",
    "\n",
    "bins = 50\n",
    "\n",
    "ax.hist(y_pred_label_normal, bins = bins)\n",
    "ax.set_title('normal')\n",
    "\n",
    "ax.hist(y_pred_label_fraud, bins = bins)\n",
    "ax.set_title('fraud')\n",
    "\n",
    "plt.xlabel('train pred')\n",
    "plt.ylabel('Frequencey')\n",
    "plt.xlim((0, 1))\n",
    "plt.yscale('log')\n",
    "plt.text(0.05, 0.92, 'normal  = Blue',transform = ax.transAxes, fontsize = 14)\n",
    "plt.text(0.05, 0.86, 'abnormal = Orange',transform = ax.transAxes, fontsize = 14)\n",
    "plt.show()"
   ]
  },
  {
   "cell_type": "code",
   "execution_count": null,
   "id": "36d69ca4-14ca-48c2-8340-f7b03513cf86",
   "metadata": {},
   "outputs": [
    {
     "name": "stdout",
     "output_type": "stream",
     "text": [
      "2/2 [==============================] - 0s 6ms/step\n"
     ]
    },
    {
     "data": {
      "application/vnd.jupyter.widget-view+json": {
       "model_id": "3c1eb91a6e954c3abe81b42af6bdd4f6",
       "version_major": 2,
       "version_minor": 0
      },
      "text/plain": [
       "  0%|          | 0/50 [00:00<?, ?it/s]"
      ]
     },
     "metadata": {},
     "output_type": "display_data"
    },
    {
     "name": "stdout",
     "output_type": "stream",
     "text": [
      "1/1 [==============================] - 0s 32ms/step\n",
      "3238/3238 [==============================] - 7s 2ms/step\n",
      "1/1 [==============================] - 0s 23ms/step\n",
      "3238/3238 [==============================] - 6s 2ms/step\n",
      "1/1 [==============================] - 0s 25ms/step\n",
      "3238/3238 [==============================] - 7s 2ms/step\n",
      "1/1 [==============================] - 0s 27ms/step\n",
      "3238/3238 [==============================] - 7s 2ms/step\n",
      "1/1 [==============================] - 0s 31ms/step\n",
      "3238/3238 [==============================] - 7s 2ms/step\n",
      "1/1 [==============================] - 0s 33ms/step\n",
      "3238/3238 [==============================] - 8s 2ms/step\n",
      "1/1 [==============================] - 0s 30ms/step\n",
      "3238/3238 [==============================] - 9s 3ms/step\n",
      "1/1 [==============================] - 0s 24ms/step\n",
      "2848/3238 [=========================>....] - ETA: 0s"
     ]
    }
   ],
   "source": [
    "import shap\n",
    "\n",
    "# データのサンプルを作成（ここでは訓練データの最初の100行を使用）\n",
    "X_sample = X_train_res[numeric_cols].iloc[:50, :]\n",
    "\n",
    "# Explainerの作成\n",
    "explainer = shap.KernelExplainer(model.predict, X_sample)\n",
    "\n",
    "# SHAP値の計算（ここでは検証データの最初の50行に対して計算）\n",
    "shap_values = explainer.shap_values(X_val[numeric_cols].iloc[:50, :])\n",
    "\n",
    "# SHAP値のプロット\n",
    "shap.summary_plot(shap_values, X_val[numeric_cols].iloc[:50, :])"
   ]
  },
  {
   "cell_type": "code",
   "execution_count": null,
   "id": "bc6606ec-16e4-4155-a693-f88e3367f784",
   "metadata": {},
   "outputs": [],
   "source": []
  },
  {
   "cell_type": "code",
   "execution_count": null,
   "id": "bd0cc023-4aaf-44e1-aaeb-5d34dc6f62c7",
   "metadata": {},
   "outputs": [],
   "source": []
  },
  {
   "cell_type": "code",
   "execution_count": null,
   "id": "e35186b5-afa7-4ce6-81f3-498f3d8104f2",
   "metadata": {},
   "outputs": [],
   "source": []
  },
  {
   "cell_type": "code",
   "execution_count": null,
   "id": "98ef02bb-7df4-4f48-8679-9d7303ef8c9f",
   "metadata": {},
   "outputs": [],
   "source": []
  },
  {
   "cell_type": "code",
   "execution_count": null,
   "id": "b2ee7fd7-24db-4417-a8fa-37424f4f44ca",
   "metadata": {},
   "outputs": [],
   "source": []
  },
  {
   "cell_type": "code",
   "execution_count": null,
   "id": "3ca31580-0055-4a62-9285-abbca09bb688",
   "metadata": {},
   "outputs": [],
   "source": []
  },
  {
   "cell_type": "code",
   "execution_count": null,
   "id": "3c05ee98-a515-48d2-9c27-4111bb734c43",
   "metadata": {},
   "outputs": [],
   "source": []
  },
  {
   "cell_type": "code",
   "execution_count": null,
   "id": "aacefa07-714d-4fe5-9504-bc3eeb57eb36",
   "metadata": {},
   "outputs": [],
   "source": []
  },
  {
   "cell_type": "code",
   "execution_count": null,
   "id": "40dce7af-738b-49c0-8c18-18d43f670093",
   "metadata": {},
   "outputs": [],
   "source": []
  }
 ],
 "metadata": {
  "availableInstances": [
   {
    "_defaultOrder": 0,
    "_isFastLaunch": true,
    "category": "General purpose",
    "gpuNum": 0,
    "hideHardwareSpecs": false,
    "memoryGiB": 4,
    "name": "ml.t3.medium",
    "vcpuNum": 2
   },
   {
    "_defaultOrder": 1,
    "_isFastLaunch": false,
    "category": "General purpose",
    "gpuNum": 0,
    "hideHardwareSpecs": false,
    "memoryGiB": 8,
    "name": "ml.t3.large",
    "vcpuNum": 2
   },
   {
    "_defaultOrder": 2,
    "_isFastLaunch": false,
    "category": "General purpose",
    "gpuNum": 0,
    "hideHardwareSpecs": false,
    "memoryGiB": 16,
    "name": "ml.t3.xlarge",
    "vcpuNum": 4
   },
   {
    "_defaultOrder": 3,
    "_isFastLaunch": false,
    "category": "General purpose",
    "gpuNum": 0,
    "hideHardwareSpecs": false,
    "memoryGiB": 32,
    "name": "ml.t3.2xlarge",
    "vcpuNum": 8
   },
   {
    "_defaultOrder": 4,
    "_isFastLaunch": true,
    "category": "General purpose",
    "gpuNum": 0,
    "hideHardwareSpecs": false,
    "memoryGiB": 8,
    "name": "ml.m5.large",
    "vcpuNum": 2
   },
   {
    "_defaultOrder": 5,
    "_isFastLaunch": false,
    "category": "General purpose",
    "gpuNum": 0,
    "hideHardwareSpecs": false,
    "memoryGiB": 16,
    "name": "ml.m5.xlarge",
    "vcpuNum": 4
   },
   {
    "_defaultOrder": 6,
    "_isFastLaunch": false,
    "category": "General purpose",
    "gpuNum": 0,
    "hideHardwareSpecs": false,
    "memoryGiB": 32,
    "name": "ml.m5.2xlarge",
    "vcpuNum": 8
   },
   {
    "_defaultOrder": 7,
    "_isFastLaunch": false,
    "category": "General purpose",
    "gpuNum": 0,
    "hideHardwareSpecs": false,
    "memoryGiB": 64,
    "name": "ml.m5.4xlarge",
    "vcpuNum": 16
   },
   {
    "_defaultOrder": 8,
    "_isFastLaunch": false,
    "category": "General purpose",
    "gpuNum": 0,
    "hideHardwareSpecs": false,
    "memoryGiB": 128,
    "name": "ml.m5.8xlarge",
    "vcpuNum": 32
   },
   {
    "_defaultOrder": 9,
    "_isFastLaunch": false,
    "category": "General purpose",
    "gpuNum": 0,
    "hideHardwareSpecs": false,
    "memoryGiB": 192,
    "name": "ml.m5.12xlarge",
    "vcpuNum": 48
   },
   {
    "_defaultOrder": 10,
    "_isFastLaunch": false,
    "category": "General purpose",
    "gpuNum": 0,
    "hideHardwareSpecs": false,
    "memoryGiB": 256,
    "name": "ml.m5.16xlarge",
    "vcpuNum": 64
   },
   {
    "_defaultOrder": 11,
    "_isFastLaunch": false,
    "category": "General purpose",
    "gpuNum": 0,
    "hideHardwareSpecs": false,
    "memoryGiB": 384,
    "name": "ml.m5.24xlarge",
    "vcpuNum": 96
   },
   {
    "_defaultOrder": 12,
    "_isFastLaunch": false,
    "category": "General purpose",
    "gpuNum": 0,
    "hideHardwareSpecs": false,
    "memoryGiB": 8,
    "name": "ml.m5d.large",
    "vcpuNum": 2
   },
   {
    "_defaultOrder": 13,
    "_isFastLaunch": false,
    "category": "General purpose",
    "gpuNum": 0,
    "hideHardwareSpecs": false,
    "memoryGiB": 16,
    "name": "ml.m5d.xlarge",
    "vcpuNum": 4
   },
   {
    "_defaultOrder": 14,
    "_isFastLaunch": false,
    "category": "General purpose",
    "gpuNum": 0,
    "hideHardwareSpecs": false,
    "memoryGiB": 32,
    "name": "ml.m5d.2xlarge",
    "vcpuNum": 8
   },
   {
    "_defaultOrder": 15,
    "_isFastLaunch": false,
    "category": "General purpose",
    "gpuNum": 0,
    "hideHardwareSpecs": false,
    "memoryGiB": 64,
    "name": "ml.m5d.4xlarge",
    "vcpuNum": 16
   },
   {
    "_defaultOrder": 16,
    "_isFastLaunch": false,
    "category": "General purpose",
    "gpuNum": 0,
    "hideHardwareSpecs": false,
    "memoryGiB": 128,
    "name": "ml.m5d.8xlarge",
    "vcpuNum": 32
   },
   {
    "_defaultOrder": 17,
    "_isFastLaunch": false,
    "category": "General purpose",
    "gpuNum": 0,
    "hideHardwareSpecs": false,
    "memoryGiB": 192,
    "name": "ml.m5d.12xlarge",
    "vcpuNum": 48
   },
   {
    "_defaultOrder": 18,
    "_isFastLaunch": false,
    "category": "General purpose",
    "gpuNum": 0,
    "hideHardwareSpecs": false,
    "memoryGiB": 256,
    "name": "ml.m5d.16xlarge",
    "vcpuNum": 64
   },
   {
    "_defaultOrder": 19,
    "_isFastLaunch": false,
    "category": "General purpose",
    "gpuNum": 0,
    "hideHardwareSpecs": false,
    "memoryGiB": 384,
    "name": "ml.m5d.24xlarge",
    "vcpuNum": 96
   },
   {
    "_defaultOrder": 20,
    "_isFastLaunch": false,
    "category": "General purpose",
    "gpuNum": 0,
    "hideHardwareSpecs": true,
    "memoryGiB": 0,
    "name": "ml.geospatial.interactive",
    "supportedImageNames": [
     "sagemaker-geospatial-v1-0"
    ],
    "vcpuNum": 0
   },
   {
    "_defaultOrder": 21,
    "_isFastLaunch": true,
    "category": "Compute optimized",
    "gpuNum": 0,
    "hideHardwareSpecs": false,
    "memoryGiB": 4,
    "name": "ml.c5.large",
    "vcpuNum": 2
   },
   {
    "_defaultOrder": 22,
    "_isFastLaunch": false,
    "category": "Compute optimized",
    "gpuNum": 0,
    "hideHardwareSpecs": false,
    "memoryGiB": 8,
    "name": "ml.c5.xlarge",
    "vcpuNum": 4
   },
   {
    "_defaultOrder": 23,
    "_isFastLaunch": false,
    "category": "Compute optimized",
    "gpuNum": 0,
    "hideHardwareSpecs": false,
    "memoryGiB": 16,
    "name": "ml.c5.2xlarge",
    "vcpuNum": 8
   },
   {
    "_defaultOrder": 24,
    "_isFastLaunch": false,
    "category": "Compute optimized",
    "gpuNum": 0,
    "hideHardwareSpecs": false,
    "memoryGiB": 32,
    "name": "ml.c5.4xlarge",
    "vcpuNum": 16
   },
   {
    "_defaultOrder": 25,
    "_isFastLaunch": false,
    "category": "Compute optimized",
    "gpuNum": 0,
    "hideHardwareSpecs": false,
    "memoryGiB": 72,
    "name": "ml.c5.9xlarge",
    "vcpuNum": 36
   },
   {
    "_defaultOrder": 26,
    "_isFastLaunch": false,
    "category": "Compute optimized",
    "gpuNum": 0,
    "hideHardwareSpecs": false,
    "memoryGiB": 96,
    "name": "ml.c5.12xlarge",
    "vcpuNum": 48
   },
   {
    "_defaultOrder": 27,
    "_isFastLaunch": false,
    "category": "Compute optimized",
    "gpuNum": 0,
    "hideHardwareSpecs": false,
    "memoryGiB": 144,
    "name": "ml.c5.18xlarge",
    "vcpuNum": 72
   },
   {
    "_defaultOrder": 28,
    "_isFastLaunch": false,
    "category": "Compute optimized",
    "gpuNum": 0,
    "hideHardwareSpecs": false,
    "memoryGiB": 192,
    "name": "ml.c5.24xlarge",
    "vcpuNum": 96
   },
   {
    "_defaultOrder": 29,
    "_isFastLaunch": true,
    "category": "Accelerated computing",
    "gpuNum": 1,
    "hideHardwareSpecs": false,
    "memoryGiB": 16,
    "name": "ml.g4dn.xlarge",
    "vcpuNum": 4
   },
   {
    "_defaultOrder": 30,
    "_isFastLaunch": false,
    "category": "Accelerated computing",
    "gpuNum": 1,
    "hideHardwareSpecs": false,
    "memoryGiB": 32,
    "name": "ml.g4dn.2xlarge",
    "vcpuNum": 8
   },
   {
    "_defaultOrder": 31,
    "_isFastLaunch": false,
    "category": "Accelerated computing",
    "gpuNum": 1,
    "hideHardwareSpecs": false,
    "memoryGiB": 64,
    "name": "ml.g4dn.4xlarge",
    "vcpuNum": 16
   },
   {
    "_defaultOrder": 32,
    "_isFastLaunch": false,
    "category": "Accelerated computing",
    "gpuNum": 1,
    "hideHardwareSpecs": false,
    "memoryGiB": 128,
    "name": "ml.g4dn.8xlarge",
    "vcpuNum": 32
   },
   {
    "_defaultOrder": 33,
    "_isFastLaunch": false,
    "category": "Accelerated computing",
    "gpuNum": 4,
    "hideHardwareSpecs": false,
    "memoryGiB": 192,
    "name": "ml.g4dn.12xlarge",
    "vcpuNum": 48
   },
   {
    "_defaultOrder": 34,
    "_isFastLaunch": false,
    "category": "Accelerated computing",
    "gpuNum": 1,
    "hideHardwareSpecs": false,
    "memoryGiB": 256,
    "name": "ml.g4dn.16xlarge",
    "vcpuNum": 64
   },
   {
    "_defaultOrder": 35,
    "_isFastLaunch": false,
    "category": "Accelerated computing",
    "gpuNum": 1,
    "hideHardwareSpecs": false,
    "memoryGiB": 61,
    "name": "ml.p3.2xlarge",
    "vcpuNum": 8
   },
   {
    "_defaultOrder": 36,
    "_isFastLaunch": false,
    "category": "Accelerated computing",
    "gpuNum": 4,
    "hideHardwareSpecs": false,
    "memoryGiB": 244,
    "name": "ml.p3.8xlarge",
    "vcpuNum": 32
   },
   {
    "_defaultOrder": 37,
    "_isFastLaunch": false,
    "category": "Accelerated computing",
    "gpuNum": 8,
    "hideHardwareSpecs": false,
    "memoryGiB": 488,
    "name": "ml.p3.16xlarge",
    "vcpuNum": 64
   },
   {
    "_defaultOrder": 38,
    "_isFastLaunch": false,
    "category": "Accelerated computing",
    "gpuNum": 8,
    "hideHardwareSpecs": false,
    "memoryGiB": 768,
    "name": "ml.p3dn.24xlarge",
    "vcpuNum": 96
   },
   {
    "_defaultOrder": 39,
    "_isFastLaunch": false,
    "category": "Memory Optimized",
    "gpuNum": 0,
    "hideHardwareSpecs": false,
    "memoryGiB": 16,
    "name": "ml.r5.large",
    "vcpuNum": 2
   },
   {
    "_defaultOrder": 40,
    "_isFastLaunch": false,
    "category": "Memory Optimized",
    "gpuNum": 0,
    "hideHardwareSpecs": false,
    "memoryGiB": 32,
    "name": "ml.r5.xlarge",
    "vcpuNum": 4
   },
   {
    "_defaultOrder": 41,
    "_isFastLaunch": false,
    "category": "Memory Optimized",
    "gpuNum": 0,
    "hideHardwareSpecs": false,
    "memoryGiB": 64,
    "name": "ml.r5.2xlarge",
    "vcpuNum": 8
   },
   {
    "_defaultOrder": 42,
    "_isFastLaunch": false,
    "category": "Memory Optimized",
    "gpuNum": 0,
    "hideHardwareSpecs": false,
    "memoryGiB": 128,
    "name": "ml.r5.4xlarge",
    "vcpuNum": 16
   },
   {
    "_defaultOrder": 43,
    "_isFastLaunch": false,
    "category": "Memory Optimized",
    "gpuNum": 0,
    "hideHardwareSpecs": false,
    "memoryGiB": 256,
    "name": "ml.r5.8xlarge",
    "vcpuNum": 32
   },
   {
    "_defaultOrder": 44,
    "_isFastLaunch": false,
    "category": "Memory Optimized",
    "gpuNum": 0,
    "hideHardwareSpecs": false,
    "memoryGiB": 384,
    "name": "ml.r5.12xlarge",
    "vcpuNum": 48
   },
   {
    "_defaultOrder": 45,
    "_isFastLaunch": false,
    "category": "Memory Optimized",
    "gpuNum": 0,
    "hideHardwareSpecs": false,
    "memoryGiB": 512,
    "name": "ml.r5.16xlarge",
    "vcpuNum": 64
   },
   {
    "_defaultOrder": 46,
    "_isFastLaunch": false,
    "category": "Memory Optimized",
    "gpuNum": 0,
    "hideHardwareSpecs": false,
    "memoryGiB": 768,
    "name": "ml.r5.24xlarge",
    "vcpuNum": 96
   },
   {
    "_defaultOrder": 47,
    "_isFastLaunch": false,
    "category": "Accelerated computing",
    "gpuNum": 1,
    "hideHardwareSpecs": false,
    "memoryGiB": 16,
    "name": "ml.g5.xlarge",
    "vcpuNum": 4
   },
   {
    "_defaultOrder": 48,
    "_isFastLaunch": false,
    "category": "Accelerated computing",
    "gpuNum": 1,
    "hideHardwareSpecs": false,
    "memoryGiB": 32,
    "name": "ml.g5.2xlarge",
    "vcpuNum": 8
   },
   {
    "_defaultOrder": 49,
    "_isFastLaunch": false,
    "category": "Accelerated computing",
    "gpuNum": 1,
    "hideHardwareSpecs": false,
    "memoryGiB": 64,
    "name": "ml.g5.4xlarge",
    "vcpuNum": 16
   },
   {
    "_defaultOrder": 50,
    "_isFastLaunch": false,
    "category": "Accelerated computing",
    "gpuNum": 1,
    "hideHardwareSpecs": false,
    "memoryGiB": 128,
    "name": "ml.g5.8xlarge",
    "vcpuNum": 32
   },
   {
    "_defaultOrder": 51,
    "_isFastLaunch": false,
    "category": "Accelerated computing",
    "gpuNum": 1,
    "hideHardwareSpecs": false,
    "memoryGiB": 256,
    "name": "ml.g5.16xlarge",
    "vcpuNum": 64
   },
   {
    "_defaultOrder": 52,
    "_isFastLaunch": false,
    "category": "Accelerated computing",
    "gpuNum": 4,
    "hideHardwareSpecs": false,
    "memoryGiB": 192,
    "name": "ml.g5.12xlarge",
    "vcpuNum": 48
   },
   {
    "_defaultOrder": 53,
    "_isFastLaunch": false,
    "category": "Accelerated computing",
    "gpuNum": 4,
    "hideHardwareSpecs": false,
    "memoryGiB": 384,
    "name": "ml.g5.24xlarge",
    "vcpuNum": 96
   },
   {
    "_defaultOrder": 54,
    "_isFastLaunch": false,
    "category": "Accelerated computing",
    "gpuNum": 8,
    "hideHardwareSpecs": false,
    "memoryGiB": 768,
    "name": "ml.g5.48xlarge",
    "vcpuNum": 192
   },
   {
    "_defaultOrder": 55,
    "_isFastLaunch": false,
    "category": "Accelerated computing",
    "gpuNum": 8,
    "hideHardwareSpecs": false,
    "memoryGiB": 1152,
    "name": "ml.p4d.24xlarge",
    "vcpuNum": 96
   },
   {
    "_defaultOrder": 56,
    "_isFastLaunch": false,
    "category": "Accelerated computing",
    "gpuNum": 8,
    "hideHardwareSpecs": false,
    "memoryGiB": 1152,
    "name": "ml.p4de.24xlarge",
    "vcpuNum": 96
   },
   {
    "_defaultOrder": 57,
    "_isFastLaunch": false,
    "category": "Accelerated computing",
    "gpuNum": 0,
    "hideHardwareSpecs": false,
    "memoryGiB": 32,
    "name": "ml.trn1.2xlarge",
    "vcpuNum": 8
   },
   {
    "_defaultOrder": 58,
    "_isFastLaunch": false,
    "category": "Accelerated computing",
    "gpuNum": 0,
    "hideHardwareSpecs": false,
    "memoryGiB": 512,
    "name": "ml.trn1.32xlarge",
    "vcpuNum": 128
   },
   {
    "_defaultOrder": 59,
    "_isFastLaunch": false,
    "category": "Accelerated computing",
    "gpuNum": 0,
    "hideHardwareSpecs": false,
    "memoryGiB": 512,
    "name": "ml.trn1n.32xlarge",
    "vcpuNum": 128
   }
  ],
  "kernelspec": {
   "display_name": "Python 3 (TensorFlow 2.11.0 Python 3.9 CPU Optimized)",
   "language": "python",
   "name": "python3__SAGEMAKER_INTERNAL__arn:aws:sagemaker:ap-northeast-3:792733760839:image/tensorflow-2.11.0-cpu-py39-ubuntu20.04-sagemaker-v1.1"
  },
  "language_info": {
   "codemirror_mode": {
    "name": "ipython",
    "version": 3
   },
   "file_extension": ".py",
   "mimetype": "text/x-python",
   "name": "python",
   "nbconvert_exporter": "python",
   "pygments_lexer": "ipython3",
   "version": "3.9.10"
  }
 },
 "nbformat": 4,
 "nbformat_minor": 5
}
